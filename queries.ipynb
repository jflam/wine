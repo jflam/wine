{
 "cells": [
  {
   "cell_type": "markdown",
   "metadata": {},
   "source": [
    "# Wine Reviews Search Engine\n",
    "\n",
    "Enter some sample queries to see how well this performs!\n",
    "\n",
    "- lots of tannins leading to a harsh, puckery feel in the mouth\n",
    "- shiraz fruity plum\n",
    "- fruity chardonnay with cherry flavors\n",
    "- sweet citrus chardonnay\n",
    "- dessert wine"
   ]
  },
  {
   "cell_type": "code",
   "execution_count": 1,
   "metadata": {},
   "outputs": [
    {
     "name": "stderr",
     "output_type": "stream",
     "text": [
      "Your CPU supports instructions that this binary was not compiled to use: SSE3 SSE4.1 SSE4.2 AVX AVX2\n",
      "For maximum performance, you can install NMSLIB from sources \n",
      "pip install --no-binary :all: nmslib\n"
     ]
    },
    {
     "name": "stdout",
     "output_type": "stream",
     "text": [
      "LOADING NMS index from /data/index.bin...\n",
      "LOADING sentence transformer msmarco-distilbert-base-v4...\n",
      "LOADING dataset from ./data/wine.db sqlite file...\n",
      "INIT completed in 2.62 seconds\n"
     ]
    }
   ],
   "source": [
    "# Setup search engine\n",
    "\n",
    "import build.constants as C\n",
    "import nmslib\n",
    "import pandas as pd\n",
    "import sqlite3 as sql\n",
    "import time\n",
    "\n",
    "from sentence_transformers import SentenceTransformer\n",
    "\n",
    "start = time.process_time()\n",
    "print(f\"LOADING NMS index from {C.NMS_INDEX1}...\")\n",
    "index = nmslib.init(method=\"hnsw\", space=\"cosinesimil\")\n",
    "index.loadIndex(C.NMS_INDEX1)\n",
    "\n",
    "print(f\"LOADING sentence transformer {C.SENTENCE_TRANSFORMER_MODEL_NAME}...\")\n",
    "model = SentenceTransformer(C.SENTENCE_TRANSFORMER_MODEL_NAME)\n",
    "\n",
    "print(f\"LOADING dataset from {C.SQLITE_DATASET} sqlite file...\")\n",
    "with sql.connect(C.SQLITE_DATASET) as c:\n",
    "    df = pd.read_sql(\"select * from wine\", c)\n",
    "end = time.process_time()\n",
    "print(f\"INIT completed in {end-start:.2f} seconds\")\n",
    "\n",
    "def search(df, query: str) -> None:\n",
    "    start = time.process_time()\n",
    "    query_embeddings = model.encode(query, convert_to_tensor=True).cpu()\n",
    "    ids, distances = index.knnQuery(query_embeddings, k=20)\n",
    "    end = time.process_time()\n",
    "    print(f\"SEARCHED {df.shape[0]} reviews of {df.title.nunique()} wines \"\n",
    "          f\"from {df.winery.nunique()} wineries in {(end-start)*1000:.2f}ms\\n\")\n",
    "\n",
    "    # TODO: better Jupyter output\n",
    "    matches = []\n",
    "    for i, j in zip(ids, distances):\n",
    "        print((f\"NAME: {df.winery.values[i]} {df.title.values[i]} \"\n",
    "            f\"({df.country.values[i]})\\n\"\n",
    "            f\"REVIEW: {df.description.values[i]}\\n\"\n",
    "            f\"RANK: {df.points.values[i]} \"\n",
    "            f\"DISTANCE: {j:.2f}\"))"
   ]
  },
  {
   "cell_type": "code",
   "execution_count": 3,
   "metadata": {},
   "outputs": [
    {
     "name": "stdout",
     "output_type": "stream",
     "text": [
      "SEARCHED 100261 reviews of 99388 wines from 14975 wineries in 11.83ms\n",
      "\n",
      "NAME: Girl Go Lightly Girl Go Lightly 2012 Moscato (California) (US)\n",
      "REVIEW: So sugary sweet, it has to be considered a dessert wine. The orange, pineapple, vanilla fudge and honeysuckle flavors have a cleansing edge of acidity.\n",
      "RANK: 84 DISTANCE: 0.31\n",
      "NAME: Clos Solène Clos Solène 2010 Sweet Clémentine Grenache (Paso Robles) (US)\n",
      "REVIEW: Sweet with raspberry jam, cherry liqueur and vanilla cream flavors, this is a good dessert wine. But it could be a lot better if it were more intense. The finish trails off a little.\n",
      "RANK: 86 DISTANCE: 0.34\n",
      "NAME: Forest Glen Forest Glen 2009 White Merlot (California) (US)\n",
      "REVIEW: As sweet as a dessert wine, with sugary raspberry, cherry and spice flavors.\n",
      "RANK: 82 DISTANCE: 0.34\n",
      "NAME: Fort Ross Fort Ross 2012 Late Harvest Chardonnay (Fort Ross-Seaview) (US)\n",
      "REVIEW: Honey, tangerine, apricot and vanilla flavors characterize this dessert wine. With a residual sugar of 97 g/L, it's intensely sweet, but balanced with crisp acidity.\n",
      "RANK: 87 DISTANCE: 0.36\n",
      "NAME: Château Suau Château Suau 2009 500 ml  (Cadillac) (France)\n",
      "REVIEW: Billed as a dessert wine, this is in fact more of an apéritif wine, with its botrytis sweetness muted by a soft, open character. It has ripe apricot flavors, hints of honey and a tang of orange peel.\n",
      "RANK: 85 DISTANCE: 0.37\n",
      "NAME: Di Majo Norante Di Majo Norante 2006 Apianae Moscato (Molise) (Italy)\n",
      "REVIEW: This is an extraordinary, golden dessert wine with intense and penetrating notes of honey, marron glacé, dried apricot, marzipan, candied lemon, dried mint and jasmine. It's smooth, rich and long lasting in the mouth. The wine has personality and power and boasts magnetic appeal across the board.\n",
      "RANK: 94 DISTANCE: 0.37\n",
      "NAME: Rare Rare NV 4 Grape Blend White (California) (US)\n",
      "REVIEW: This seems so sweet, you could almost classify it as a dessert wine. It has simple orange, pineapple and vanilla flavors.\n",
      "RANK: 82 DISTANCE: 0.37\n",
      "NAME: Bogle Bogle 2010 Riesling (California) (US)\n",
      "REVIEW: You almost have to classify this Riesling as a dessert wine, because it crosses the line from off-dry into frankly sweet. It's an easy sipper, with honeyed tangerine and pear flavors. Could be a little brighter in acidity, though.\n",
      "RANK: 85 DISTANCE: 0.39\n",
      "NAME: Bouchaine Bouchaine 2012 Bouche d'Or Chardonnay (Carneros) (US)\n",
      "REVIEW: A beautiful wine to pair with desserts based on white fruits or simple but delicious vanilla sponge cake. Made from late-harvested Chardonnay, it's very sweet in apricots, lemons, vanilla and buttered toast, with a brisk edge of acidity for balance.\n",
      "RANK: 91 DISTANCE: 0.40\n",
      "NAME: Daniel Gehrs Daniel Gehrs 2005 Late Harvest Sauvignon Blanc (Santa Barbara County) (US)\n",
      "REVIEW: This dessert wine is sweetly complex, with apricot jam, peach pie, honeysuckle, vanilla fudge and smoky butterscotch flavors. Fortunately, the acidity is fine and crisp, providing a clean balance to the sweetness.\n",
      "RANK: 90 DISTANCE: 0.40\n",
      "NAME: Binyamina Binyamina 2010 Late Harvest Cluster Select Reserve Gewürztraminer (Galilee) (Israel)\n",
      "REVIEW: This late-harvest dessert wine is sweet and unctuous, with ripe aromas and flavors of peaches and nectarines drizzled with honey and dusted with sweet baking spice. The mouthfeel is thick and full, but lifted with enough acidity to keep it from feeling cloying on the close.\n",
      "RANK: 89 DISTANCE: 0.40\n",
      "NAME: Castello del Poggio Castello del Poggio NV Moscato (Asti) (Italy)\n",
      "REVIEW: A delightful dessert wine, it carries a fruity fragrance of peach and tropical fruit. The frothy palate shows sweet peach and green melon accented with hints of sage. It finishes on a refreshing note. Pair this with sorbet or fruit tarts.\n",
      "RANK: 86 DISTANCE: 0.40\n",
      "NAME: Novy Novy 2006 Oley Dessert Wine Viognier (Russian River Valley) (US)\n",
      "REVIEW: This is a very sweet, unctuous dessert wine, with the flavor and texture of honey. Made from Viognier, it has decadent apricot, peach, tangerine and crème brûlée notes that combine in a dense, delicious mélange.\n",
      "RANK: 93 DISTANCE: 0.40\n",
      "NAME: Greedy Greedy 2009 Cabernet Sauvignon (Alexander Valley) (US)\n",
      "REVIEW: As sweet and sugary as a dessert wine, with watery berry flavors.\n",
      "RANK: 81 DISTANCE: 0.40\n",
      "NAME: Ken Forrester Ken Forrester 2010 T Noble Late Harvest Chenin Blanc (Stellenbosch) (South Africa)\n",
      "REVIEW: This is a ripe, sweet and immediately attractive dessert wine, with forward aromas and flavors of dried apricot, golden raisin, papaya, honeycomb and gingered orange. Hints of sweet spice and toasted nuts unfold on the long close. It's viscous and lush, but with ample acidity to lift the finish. Drink now–2018.\n",
      "RANK: 92 DISTANCE: 0.41\n",
      "NAME: Mattina Fiore Mattina Fiore 2013 Fiorellino Murmur Vineyard Late Harvest Viognier (Santa Maria Valley) (US)\n",
      "REVIEW: This is a complex and lively dessert wine, with concentrated quince and honeysuckle on the nose, as well as tangerine skin and the slightest touch of white rock minerality. It's soft on the palate, with a bitter grapefruit-pith twist, showing flavors of golden honey, lemon balm, chamomile and chive.\n",
      "RANK: 92 DISTANCE: 0.41\n",
      "NAME: David Clinton David Clinton 2012 Forté Unti Vineyard Zinfandel (Dry Creek Valley) (US)\n",
      "REVIEW: A thick, sweet and meaty dessert wine made from older vines, this offers a richness of Dr Pepper, baked plum and dried cherry.\n",
      "RANK: 88 DISTANCE: 0.41\n",
      "NAME: Jana Jana 2007 Old Vine Riesling (Napa Valley) (US)\n",
      "REVIEW: You could classify this as an off-dry wine, but it's just sweet and honeyed enough to be a dessert wine. With pleasant acidity providing balance, it shows flavors of ripe peaches, diesel, nectarines, apples, vanilla and buttercup flowers.\n",
      "RANK: 85 DISTANCE: 0.41\n",
      "NAME: Chacewater Chacewater 2000 15 Year Old Tawny Dessert Wine Red (Lake County) (US)\n",
      "REVIEW: A delicious, beautifully aged tawny-style dessert wine, this rarity is sweet and fortified with alcohol, and also superbly well balanced. A diverse palette of flavors includes toffee, coffee, sweet prune, toasted almonds and chocolate. Supportive tannins and acidity keep the texture lively and the finish lingering.\n",
      "RANK: 94 DISTANCE: 0.41\n",
      "NAME: Robert Mondavi Robert Mondavi 2012 Moscato d'Oro Moscato (Napa Valley) (US)\n",
      "REVIEW: Here's an easy-drinking dessert wine, bright and crisp in acidity, with orange, lemon, lime, vanilla, honey and buttered toast flavors. Scores high on the Wow! factor that makes it so tasty.\n",
      "RANK: 87 DISTANCE: 0.41\n"
     ]
    }
   ],
   "source": [
    "search(df, \"dessert wine\")"
   ]
  }
 ],
 "metadata": {
  "interpreter": {
   "hash": "d4d1e4263499bec80672ea0156c357c1ee493ec2b1c70f0acce89fc37c4a6abe"
  },
  "kernelspec": {
   "display_name": "Python 3.8.10 64-bit ('base': conda)",
   "name": "python3"
  },
  "language_info": {
   "codemirror_mode": {
    "name": "ipython",
    "version": 3
   },
   "file_extension": ".py",
   "mimetype": "text/x-python",
   "name": "python",
   "nbconvert_exporter": "python",
   "pygments_lexer": "ipython3",
   "version": "3.8.10"
  },
  "orig_nbformat": 4
 },
 "nbformat": 4,
 "nbformat_minor": 2
}
