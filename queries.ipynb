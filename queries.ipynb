{
 "cells": [
  {
   "cell_type": "markdown",
   "metadata": {},
   "source": [
    "# Wine Reviews Search Engine\n",
    "\n",
    "Enter some sample queries to see how well this performs!\n",
    "\n",
    "- lots of tannins leading to a harsh, puckery feel in the mouth\n",
    "- shiraz fruity plum\n",
    "- fruity chardonnay with cherry flavors\n",
    "- sweet citrus chardonnay\n",
    "- dessert wine"
   ]
  },
  {
   "cell_type": "code",
   "execution_count": 1,
   "metadata": {},
   "outputs": [
    {
     "name": "stderr",
     "output_type": "stream",
     "text": [
      "Your CPU supports instructions that this binary was not compiled to use: SSE3 SSE4.1 SSE4.2 AVX AVX2\n",
      "For maximum performance, you can install NMSLIB from sources \n",
      "pip install --no-binary :all: nmslib\n"
     ]
    },
    {
     "name": "stdout",
     "output_type": "stream",
     "text": [
      "LOADING NMS index from /data/index.bin...\n",
      "LOADING sentence transformer msmarco-distilbert-base-v4...\n",
      "LOADING dataset from /data/wine.db sqlite file...\n",
      "INIT completed in 2.76 seconds\n"
     ]
    }
   ],
   "source": [
    "# Setup search engine\n",
    "\n",
    "import build.constants as C\n",
    "import nmslib\n",
    "import pandas as pd\n",
    "import sqlite3 as sql\n",
    "import time\n",
    "\n",
    "from sentence_transformers import SentenceTransformer\n",
    "\n",
    "start = time.process_time()\n",
    "print(f\"LOADING NMS index from {C.NMS_INDEX1}...\")\n",
    "index = nmslib.init(method=\"hnsw\", space=\"cosinesimil\")\n",
    "index.loadIndex(C.NMS_INDEX1)\n",
    "\n",
    "print(f\"LOADING sentence transformer {C.SENTENCE_TRANSFORMER_MODEL_NAME}...\")\n",
    "model = SentenceTransformer(C.SENTENCE_TRANSFORMER_MODEL_NAME)\n",
    "\n",
    "print(f\"LOADING dataset from {C.SQLITE_DATASET} sqlite file...\")\n",
    "with sql.connect(C.SQLITE_DATASET) as c:\n",
    "    df = pd.read_sql(\"select * from wine\", c)\n",
    "end = time.process_time()\n",
    "print(f\"INIT completed in {end-start:.2f} seconds\")\n",
    "\n",
    "def search(df, query: str) -> None:\n",
    "    start = time.process_time()\n",
    "    query_embeddings = model.encode(query, convert_to_tensor=True).cpu()\n",
    "    ids, distances = index.knnQuery(query_embeddings, k=20)\n",
    "    end = time.process_time()\n",
    "    print(f\"SEARCHED {df.shape[0]} reviews of {df.title.nunique()} wines \"\n",
    "          f\"from {df.winery.nunique()} wineries in {(end-start)*1000:.2f}ms\\n\")\n",
    "\n",
    "    # TODO: better Jupyter output\n",
    "    matches = []\n",
    "    for i, j in zip(ids, distances):\n",
    "        print((f\"NAME: {df.winery.values[i]} {df.title.values[i]} \"\n",
    "            f\"({df.country.values[i]})\\n\"\n",
    "            f\"REVIEW: {df.description.values[i]}\\n\"\n",
    "            f\"RANK: {df.points.values[i]} \"\n",
    "            f\"DISTANCE: {j:.2f}\"))"
   ]
  },
  {
   "cell_type": "code",
   "execution_count": 4,
   "metadata": {},
   "outputs": [
    {
     "name": "stdout",
     "output_type": "stream",
     "text": [
      "SEARCHED 100261 reviews of 99388 wines from 14975 wineries in 10.12ms\n",
      "\n",
      "NAME: Castello del Poggio Castello del Poggio NV Moscato (Asti) (Italy)\n",
      "REVIEW: A delightful dessert wine, it carries a fruity fragrance of peach and tropical fruit. The frothy palate shows sweet peach and green melon accented with hints of sage. It finishes on a refreshing note. Pair this with sorbet or fruit tarts.\n",
      "RANK: 86 DISTANCE: 0.40\n",
      "NAME: Dr. Leimbrock Dr. Leimbrock 2015 Brauneberger Juffer Spätlese Riesling (Mosel) (Germany)\n",
      "REVIEW: Exotic notes of saffron and dusty pollen mingle into ripe flavors of melon, peach and guava in this plush spicy wine. Medium sweet in style and softly textured, its lushness is offset by sprightly acidity and a touch of earthiness on the finish. Drink now through 2020.\n",
      "RANK: 89 DISTANCE: 0.42\n",
      "NAME: Rock Wall Rock Wall 2009 Westphall Ridge Vineyard Rockpile Road Zinfandel (Sonoma County) (US)\n",
      "REVIEW: A somewhat rustic wine, edgy in tannins and not quite ripe yet jammy at the same time, with olive, herb, blackberry and oak flavors. The spices are the nicest part.\n",
      "RANK: 85 DISTANCE: 0.43\n",
      "NAME: Lucas & Lewellen Lucas & Lewellen 2013 Estate Vineyards Chardonnay (Santa Barbara County) (US)\n",
      "REVIEW: Hailing from the winery's Los Alamos Valley Vineyard that lines Highway 101, this wine is quite light in color and shows delicate, clean honeydew, honey dust and apple-blossom candy aromas. It's light yet playful in the glass, with limestone, lime rind and green apple flavors. It's straightforward but well assembled.\n",
      "RANK: 88 DISTANCE: 0.43\n",
      "NAME: Waterbrook Waterbrook 2010 Merlot (Columbia Valley (WA)) (US)\n",
      "REVIEW: This 100% varietal wine hails from Canyon Vineyard Ranch and Oasis vineyards. It's tart and puckering with notes of cocoa, raspberries and licorice and a firm squeeze of tannins. Barrel notes of vanilla and dill linger on the finish.\n",
      "RANK: 87 DISTANCE: 0.43\n",
      "NAME: Cutruzzola Cutruzzola 2012 Riven Rock Vineyard Riesling (San Luis Obispo County) (US)\n",
      "REVIEW: Honey-roasted almonds, seared lemon vinaigrette and honeydew melon show on the delicious nose of this off-dry wine from an extreme coastal vineyard above Cambria. Though slightly sweet, it remains rich and intriguing, with lots of citrus peel, grapefruit pith, squeezed oranges and touches of petrol.\n",
      "RANK: 91 DISTANCE: 0.43\n",
      "NAME: Villa Mt. Eden Villa Mt. Eden 1999 Coastal Sauvignon Blanc (Central Coast) (US)\n",
      "REVIEW: Here's a softly fruity wine marked by aromas and flavors of grass, melon, grapefruit, tangerine, and fig. It's fairly dry, although it seems like there's a touch of residual sugar-not very much, just enough to round it out. It's a little one-dimensional, but pleasant.\n",
      "RANK: 85 DISTANCE: 0.44\n",
      "NAME: Migration Migration 2010 Charles Heintz Vineyard Chardonnay (Sonoma Coast) (US)\n",
      "REVIEW: Showing the richness of the vineyard, this delivers huge, flamboyant flavors of apricot and tangerine jam. While it's technically dry, there's a honeyed sweetness that suggests a touch of botrytis. It's a strong wine, unafraid to command a boldness that may not be for everyone. This is distinctly Californian in style, and as it loses fruit with age, it will develop nut and earthy notes.\n",
      "RANK: 92 DISTANCE: 0.44\n",
      "NAME: Gary Farrell Gary Farrell 2014 Rochioli Vineyard Pinot Noir (Russian River Valley) (US)\n",
      "REVIEW: This is a stellar wine. Dusty citrus spiked with clove comes to mind first aromatically and continues through to the palate. Tart acidity supports sublime texture and a lightness that never means lean. Red currant, grapefruit and orange provide additional lift and focus.\n",
      "RANK: 95 DISTANCE: 0.44\n",
      "NAME: Kings Ridge Kings Ridge 2007 Pinot Gris (Oregon) (US)\n",
      "REVIEW: From a mix of vineyards in the Chehalem Mountains, this is a pleasant but simple wine with a mix of green apple and tart pear fruit flavors. It will benefit from chilling, which will bring out more of the peppery highlights and crisp acids.\n",
      "RANK: 86 DISTANCE: 0.45\n",
      "NAME: Mattina Fiore Mattina Fiore 2013 Fiorellino Murmur Vineyard Late Harvest Viognier (Santa Maria Valley) (US)\n",
      "REVIEW: This is a complex and lively dessert wine, with concentrated quince and honeysuckle on the nose, as well as tangerine skin and the slightest touch of white rock minerality. It's soft on the palate, with a bitter grapefruit-pith twist, showing flavors of golden honey, lemon balm, chamomile and chive.\n",
      "RANK: 92 DISTANCE: 0.45\n",
      "NAME: Yorkville Cellars Yorkville Cellars 2007 Hi-Rollr Red (Mendocino County) (US)\n",
      "REVIEW: A good, rather rugged wine. It's edgy in tannins and somewhat overripe, with raisin, plum, blackberry, coffee and spice flavors. But it's nicely dry. Zinfandel, Merlot, Malbec, Cabernet Sauvignon and Petit Verdot.\n",
      "RANK: 85 DISTANCE: 0.45\n",
      "NAME: Solitary Cellars Solitary Cellars 2014 Ball & Chain Red (California) (US)\n",
      "REVIEW: This full-bodied attractively dry wine has very flavorful blackberry and black-cherry accents and a good grippy moderately tannic texture. Blended from Cabernet Sauvignon and Petite Sirah, it's nicely balanced and complete: a go-to wine for almost any occasion.\n",
      "RANK: 89 DISTANCE: 0.45\n",
      "NAME: Dr. Konstantin Frank Dr. Konstantin Frank 2012 Reserve Riesling (Finger Lakes) (US)\n",
      "REVIEW: This remarkably balanced semi-dry wine is intensely aromatic, with scents of preserved yellow peaches, saffron and spice. Juicy and ripe in stone fruit flavor, it's unabashedly forward, yet piercing acidity and delicate mineral tones lend elegance and style. Finishes with a lingering kiss of honey.\n",
      "RANK: 90 DISTANCE: 0.45\n",
      "NAME: Robert Weil Robert Weil 2014 Kiedrich Gräfenberg Trockenbeerenauslese Riesling (Rheingau) (Germany)\n",
      "REVIEW: Dusty, saffron-spiced earthiness is juxtaposed against intense mango and tangerine fruitiness in this deeply complex wine. It's unctuously sweet, but balanced by a piercing streak of acidity that penetrates through the midpalate. Spry and silken, it finishes on a long lingering whisper of honey and peach.\n",
      "RANK: 97 DISTANCE: 0.45\n",
      "NAME: Rex Hill Rex Hill 2014 Pinot Noir Rosé (Willamette Valley) (US)\n",
      "REVIEW: A pretty coppery pink in hue, this aromatic wine is dry and balanced on the palate. Rose petals and wild mountain strawberries combine gracefully, with a finishing touch of toasted coconut.\n",
      "RANK: 90 DISTANCE: 0.45\n",
      "NAME: Sidebar Sidebar 2014 Rosé (Russian River Valley) (US)\n",
      "REVIEW: Made from 100% Syrah, this dry, succulent wine is copper-colored and bursting in watermelon, cranberry and bristling acidity. Seamless, it's medium bodied and has plenty of texture to offer around a crisp, meaty finish. The label is a second offering from David Ramey, who makes this wine.\n",
      "RANK: 91 DISTANCE: 0.45\n",
      "NAME: Bisol Bisol 2015 Molera Extra Dry  (Valdobbiadene Prosecco Superiore) (Italy)\n",
      "REVIEW: Aromas of wild flower and green apple lead the nose on this lightly sparkling wine. The frothy palate offers Bartlett pear, yellow peach and grapefruit alongside crisp acidity.\n",
      "RANK: 88 DISTANCE: 0.45\n",
      "NAME: Cecilia Beretta Cecilia Beretta 2011 Brognoligo  (Soave Classico) (Italy)\n",
      "REVIEW: Yes, this wine treads deep on the side of informality with a lean, watery mouthfeel and subtle aromas of peach and pear. But there's also just enough territorial identity of Mediterranean herb and dried sage to make it interesting. The price is just right too.\n",
      "RANK: 84 DISTANCE: 0.45\n",
      "NAME: Geyser Peak Geyser Peak 2011 Devil's Inkstand Red (Alexander Valley) (US)\n",
      "REVIEW: This Cabernet Sauvignon-based Bordeaux blend has some Petite Sirah folded in, presumably for color and tannins. It's a big, sturdy wine, dry yetsomewhat soft, with complex black currant, blackberry jam, sweetened herb tea and sandalwood flavors. It's a little rustic, but fine to drink now, with everything from hamburgers and grilled steak to short ribs.\n",
      "RANK: 89 DISTANCE: 0.45\n"
     ]
    }
   ],
   "source": [
    "search(df, \"fruity desert wine\")"
   ]
  }
 ],
 "metadata": {
  "interpreter": {
   "hash": "d4d1e4263499bec80672ea0156c357c1ee493ec2b1c70f0acce89fc37c4a6abe"
  },
  "kernelspec": {
   "display_name": "Python 3.8.10 64-bit ('base': conda)",
   "name": "python3"
  },
  "language_info": {
   "codemirror_mode": {
    "name": "ipython",
    "version": 3
   },
   "file_extension": ".py",
   "mimetype": "text/x-python",
   "name": "python",
   "nbconvert_exporter": "python",
   "pygments_lexer": "ipython3",
   "version": "3.8.10"
  },
  "orig_nbformat": 4
 },
 "nbformat": 4,
 "nbformat_minor": 2
}
