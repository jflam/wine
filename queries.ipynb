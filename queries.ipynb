{
 "cells": [
  {
   "cell_type": "markdown",
   "metadata": {},
   "source": [
    "# Wine Reviews Search Engine\n",
    "\n",
    "Enter some sample queries to see how well this performs!\n",
    "\n",
    "- lots of tannins leading to a harsh, puckery feel in the mouth\n",
    "- shiraz fruity plum\n",
    "- fruity chardonnay with cherry flavors\n",
    "- sweet citrus chardonnay\n",
    "- dessert wine"
   ]
  },
  {
   "cell_type": "code",
   "execution_count": 1,
   "metadata": {},
   "outputs": [
    {
     "name": "stderr",
     "output_type": "stream",
     "text": [
      "Your CPU supports instructions that this binary was not compiled to use: SSE3 SSE4.1 SSE4.2 AVX AVX2\n",
      "For maximum performance, you can install NMSLIB from sources \n",
      "pip install --no-binary :all: nmslib\n"
     ]
    },
    {
     "name": "stdout",
     "output_type": "stream",
     "text": [
      "LOADING NMS index from /data/index.bin...\n",
      "LOADING sentence transformer msmarco-distilbert-base-v4...\n",
      "LOADING dataset from /data/wine.db sqlite file...\n",
      "INIT completed in 2.61 seconds\n"
     ]
    }
   ],
   "source": [
    "# Setup search engine\n",
    "\n",
    "import build.constants as C\n",
    "import nmslib\n",
    "import pandas as pd\n",
    "import sqlite3 as sql\n",
    "import time\n",
    "\n",
    "from sentence_transformers import SentenceTransformer\n",
    "\n",
    "start = time.process_time()\n",
    "print(f\"LOADING NMS index from {C.NMS_INDEX1}...\")\n",
    "index = nmslib.init(method=\"hnsw\", space=\"cosinesimil\")\n",
    "index.loadIndex(C.NMS_INDEX1)\n",
    "\n",
    "print(f\"LOADING sentence transformer {C.SENTENCE_TRANSFORMER_MODEL_NAME}...\")\n",
    "model = SentenceTransformer(C.SENTENCE_TRANSFORMER_MODEL_NAME)\n",
    "\n",
    "print(f\"LOADING dataset from {C.SQLITE_DATASET} sqlite file...\")\n",
    "with sql.connect(C.SQLITE_DATASET) as c:\n",
    "    df = pd.read_sql(\"select * from wine\", c)\n",
    "end = time.process_time()\n",
    "print(f\"INIT completed in {end-start:.2f} seconds\")\n",
    "\n",
    "def search(df, query: str) -> None:\n",
    "    start = time.process_time()\n",
    "    query_embeddings = model.encode(query, convert_to_tensor=True).cpu()\n",
    "    ids, distances = index.knnQuery(query_embeddings, k=20)\n",
    "    end = time.process_time()\n",
    "    print(f\"SEARCHED {df.shape[0]} reviews of {df.title.nunique()} wines \"\n",
    "          f\"from {df.winery.nunique()} wineries in {(end-start)*1000:.2f}ms\\n\")\n",
    "\n",
    "    # TODO: better Jupyter output\n",
    "    matches = []\n",
    "    for i, j in zip(ids, distances):\n",
    "        print((f\"NAME: {df.winery.values[i]} {df.title.values[i]} \"\n",
    "            f\"({df.country.values[i]})\\n\"\n",
    "            f\"REVIEW: {df.description.values[i]}\\n\"\n",
    "            f\"RANK: {df.points.values[i]} \"\n",
    "            f\"DISTANCE: {j:.2f}\"))"
   ]
  },
  {
   "cell_type": "code",
   "execution_count": 5,
   "metadata": {},
   "outputs": [
    {
     "name": "stdout",
     "output_type": "stream",
     "text": [
      "SEARCHED 100261 reviews of 99388 wines from 14975 wineries in 11.06ms\n",
      "\n",
      "NAME: Harbes Family Vineyard Harbes Family Vineyard 2015 Dry Rosé (North Fork of Long Island) (US)\n",
      "REVIEW: While tart red-cherry and red-apple notes are pleasant, there's an earthiness that persists throughout this dry Merlot rosé. It's light in body with a tangy finish.\n",
      "RANK: 85 DISTANCE: 0.38\n",
      "NAME: Le Petit Cochonnet Le Petit Cochonnet 2015 Merlot (Pays d'Oc) (France)\n",
      "REVIEW: A very drinkable, light and easy to like Merlot, this offers ripe notes of black plum, cherry and berry on the nose and mouth, with a faint hint of milk chocolate in the background. The soft mouthfeel and fruity palate finish short, but clean.\n",
      "RANK: 84 DISTANCE: 0.39\n",
      "NAME: One Woman One Woman 2012 Estate Reserve Merlot (North Fork of Long Island) (US)\n",
      "REVIEW: Bramble, violet and leather notes lend complexity to this fruity but elegantly composed Merlot. Ripe plum and cherry flavors are plump but pristine, brightened by crisp acidity and a smooth velvety finish of tannins. Drinks well already but should improve through 2021.\n",
      "RANK: 90 DISTANCE: 0.39\n",
      "NAME: Rutherford Hill Rutherford Hill 2010 Merlot (Napa Valley) (US)\n",
      "REVIEW: This Merlot is round, soft and mellow, with ripe, luscious flavors of cherry pie, mocha, honey and toasty oak, along with a hint of spice. Considering the large production of 36,000 cases and the price, it's quite an achievement.\n",
      "RANK: 90 DISTANCE: 0.39\n",
      "NAME: Columbia Crest Columbia Crest 2011 Grand Estates Merlot (Columbia Valley (WA)) (US)\n",
      "REVIEW: Generous and aromatic,  this flavorful Merlot is a showcase for ripe black cherry fruit, accented with strong streaks of vanilla and tobacco. The plush, dark fruit leads into a tasty, toasty finish, with notes of licorice and smoke.\n",
      "RANK: 90 DISTANCE: 0.40\n",
      "NAME: Parducci Parducci 2009 Small Lot Blend Merlot (Mendocino County) (US)\n",
      "REVIEW: This Merlot has good plum and cherry flavors up front and is straightforward enough to pair with just about any food, but the finish falls a bit flat.\n",
      "RANK: 85 DISTANCE: 0.40\n",
      "NAME: Madrigal Madrigal 2007 Merlot (Napa Valley) (US)\n",
      "REVIEW: A polished, softly delicious Merlot, at a good price for the quality. It's dry and richly tannic, with complex flavors of black cherries, red currants, red licorice, Indian spices and sandalwood. Ready now, but only 200 cases were produced.\n",
      "RANK: 90 DISTANCE: 0.40\n",
      "NAME: Columbia Crest Columbia Crest 2010 Two Vines Merlot (Washington) (US)\n",
      "REVIEW: It would be hard to find a better $8 Merlot anywhere. This is soft and full-bodied, quite flavorful and fruity, with pretty black cherry fruit. Drinking especially nicely with a bit of bottle age, it finishes with well-proportioned notes of tobacco and clove.\n",
      "RANK: 88 DISTANCE: 0.40\n",
      "NAME: Alexander Valley Vineyards Alexander Valley Vineyards 2007 Wetzel Family Estate Merlot (Alexander Valley) (US)\n",
      "REVIEW: A lovely Merlot, soft and supple. Shows a fine balance of cherry fruit, herbs and sweet oak, with modest alcohol and dusty tannins. Very nice and elegant.\n",
      "RANK: 87 DISTANCE: 0.40\n",
      "NAME: Murphy-Goode Murphy-Goode 2009 Merlot (California) (US)\n",
      "REVIEW: This is the kind of Merlot people will love. It's smooth, soft and silky, with rich, sweet flavors of raspberries and cherries. There's even a candied note of chocolate-covered mint.\n",
      "RANK: 87 DISTANCE: 0.41\n",
      "NAME: Vinos Magbel Vinos Magbel 2010 Merlot (Valle de Guadalupe) (Mexico)\n",
      "REVIEW: Fiery, punchy aromas of red berries and herbaceous plants make for a rough start. Flavors of leafy red raspberry and plum are typical for basic Merlot, while the finish is juicy in feel, with herbal, leafy, lightly cooked flavors.\n",
      "RANK: 82 DISTANCE: 0.41\n",
      "NAME: Knapp Knapp 2012 Merlot (Finger Lakes) (US)\n",
      "REVIEW: Crisp red cherry and berry notes on the nose become increasingly ruddy and ripe on the palate of this soft, medium-bodied Merlot. It's pleasantly juicy, but whiffs of ramp and dried savory herbs are a distracting contrast.\n",
      "RANK: 85 DISTANCE: 0.41\n",
      "NAME: Caliterra Caliterra 2007 Reserva Merlot (Colchagua Valley) (Chile)\n",
      "REVIEW: Sort of creamy and unconvincing on the nose, with carob and stemmy berry aromas. The palate runs toward red fruit, but it's also a bit green and herbal. Finishing notes of chocolate and green herbs are typical of Merlot, yet there isn't enough ripe fruit or excitement. Hence, it's a mid-level red wine with some green character. Contains 9% Cabernet and 5% Shiraz.\n",
      "RANK: 84 DISTANCE: 0.42\n",
      "NAME: Emmolo Emmolo 2006 Merlot (Napa Valley) (US)\n",
      "REVIEW: Rich, soft and chocolaty, this Merlot has fruity flavors of cherries, blackberries, mulberries and blackstrap molasses. It's dry, and at its best now.\n",
      "RANK: 86 DISTANCE: 0.42\n",
      "NAME: Flora Springs Flora Springs 2012 Merlot (Napa Valley) (US)\n",
      "REVIEW: This 100% Merlot is juicy in black cherry and plum flavors, followed by outbursts of dusty tannin that provide just enough grip. The savory cinnamon and clove aspects are backed by toasty oak, a silky texture and plenty of acidity.\n",
      "RANK: 90 DISTANCE: 0.42\n",
      "NAME: Longridge Bay View Longridge Bay View 1999 Merlot (Stellenbosch) (South Africa)\n",
      "REVIEW: This well-balanced Merlot displays a deep ruby/purple color and plenty of plum flavors. Coffee and herb notes add a touch of complexity, and the texture is smooth and even. The finish has good length for a modestly priced red.\n",
      "RANK: 87 DISTANCE: 0.42\n",
      "NAME: Longridge Longridge 1999 Bay View Merlot (Stellenbosch) (South Africa)\n",
      "REVIEW: This well-balanced Merlot displays a deep ruby/purple color and plenty of plum flavors. Coffee and herb notes add a touch of complexity and the texture is smooth and even. The finish has good length for a modestly priced red.\n",
      "RANK: 87 DISTANCE: 0.42\n",
      "NAME: Vini Vini 2013 Veni Vidi Vici Merlot (Thracian Valley) (Bulgaria)\n",
      "REVIEW: Ruby red with garnet hues in color, this easy-drinking Merlot brings aromas of cherry, black berry and black raspberry on the nose. Tones of black plum and black cherry are ripe and persistent on the finish.\n",
      "RANK: 87 DISTANCE: 0.42\n",
      "NAME: Buena Vista Buena Vista 2006 Merlot (Carneros) (US)\n",
      "REVIEW: Soft and herbal, this pretty, polished Merlot offers gentle flavors of cherries, currants, cola and violets, touched with oak. It's a very clean, elegant wine, meant to pair with upscale fare, and fully ready to drink now.\n",
      "RANK: 86 DISTANCE: 0.42\n",
      "NAME: Tangley Oaks Tangley Oaks 2006 Lot #8 Merlot (Napa Valley) (US)\n",
      "REVIEW: This Merlot has less than ripe green mint flavors along with the cherries and oak. It's fully dry, with a nice acid-tannin balance.\n",
      "RANK: 83 DISTANCE: 0.42\n"
     ]
    }
   ],
   "source": [
    "search(df, \"merlot cherry notes\")"
   ]
  }
 ],
 "metadata": {
  "interpreter": {
   "hash": "d4d1e4263499bec80672ea0156c357c1ee493ec2b1c70f0acce89fc37c4a6abe"
  },
  "kernelspec": {
   "display_name": "Python 3.8.10 64-bit ('base': conda)",
   "name": "python3"
  },
  "language_info": {
   "codemirror_mode": {
    "name": "ipython",
    "version": 3
   },
   "file_extension": ".py",
   "mimetype": "text/x-python",
   "name": "python",
   "nbconvert_exporter": "python",
   "pygments_lexer": "ipython3",
   "version": "3.8.10"
  },
  "orig_nbformat": 4
 },
 "nbformat": 4,
 "nbformat_minor": 2
}
