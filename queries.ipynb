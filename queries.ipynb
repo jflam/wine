{
 "cells": [
  {
   "cell_type": "markdown",
   "metadata": {},
   "source": [
    "# Wine Reviews Search Engine\n",
    "\n",
    "Enter some sample queries to see how well this performs!\n",
    "\n",
    "- lots of tannins leading to a harsh, puckery feel in the mouth\n",
    "- shiraz fruity plum\n",
    "- fruity chardonnay with cherry flavors\n",
    "- sweet citrus chardonnay\n",
    "- dessert wine"
   ]
  },
  {
   "cell_type": "code",
   "execution_count": 2,
   "metadata": {},
   "outputs": [
    {
     "name": "stderr",
     "output_type": "stream",
     "text": [
      "Your CPU supports instructions that this binary was not compiled to use: SSE3 SSE4.1 SSE4.2 AVX AVX2\n",
      "For maximum performance, you can install NMSLIB from sources \n",
      "pip install --no-binary :all: nmslib\n"
     ]
    },
    {
     "name": "stdout",
     "output_type": "stream",
     "text": [
      "LOADING NMS index from /data/index.bin...\n",
      "LOADING sentence transformer msmarco-distilbert-base-v4...\n",
      "LOADING dataset from ./data/wine.db sqlite file...\n",
      "INIT completed in 2.60 seconds\n"
     ]
    }
   ],
   "source": [
    "# Setup search engine\n",
    "\n",
    "import build.constants as C\n",
    "import nmslib\n",
    "import pandas as pd\n",
    "import sqlite3 as sql\n",
    "import time\n",
    "\n",
    "from sentence_transformers import SentenceTransformer\n",
    "\n",
    "start = time.process_time()\n",
    "print(f\"LOADING NMS index from {C.NMS_INDEX1}...\")\n",
    "index = nmslib.init(method=\"hnsw\", space=\"cosinesimil\")\n",
    "index.loadIndex(C.NMS_INDEX1)\n",
    "\n",
    "print(f\"LOADING sentence transformer {C.SENTENCE_TRANSFORMER_MODEL_NAME}...\")\n",
    "model = SentenceTransformer(C.SENTENCE_TRANSFORMER_MODEL_NAME)\n",
    "\n",
    "print(f\"LOADING dataset from {C.SQLITE_DATASET} sqlite file...\")\n",
    "with sql.connect(C.SQLITE_DATASET) as c:\n",
    "    df = pd.read_sql(\"select * from wine\", c)\n",
    "end = time.process_time()\n",
    "print(f\"INIT completed in {end-start:.2f} seconds\")\n",
    "\n",
    "def search(df, query: str) -> None:\n",
    "    start = time.process_time()\n",
    "    query_embeddings = model.encode(query, convert_to_tensor=True).cpu()\n",
    "    ids, distances = index.knnQuery(query_embeddings, k=20)\n",
    "    end = time.process_time()\n",
    "    print(f\"SEARCHED {df.shape[0]} reviews of {df.title.nunique()} wines \"\n",
    "          f\"from {df.winery.nunique()} wineries in {(end-start)*1000:.2f}ms\\n\")\n",
    "\n",
    "    # TODO: better Jupyter output\n",
    "    matches = []\n",
    "    for i, j in zip(ids, distances):\n",
    "        print((f\"NAME: {df.winery.values[i]} {df.title.values[i]} \"\n",
    "            f\"({df.country.values[i]})\\n\"\n",
    "            f\"REVIEW: {df.description.values[i]}\\n\"\n",
    "            f\"RANK: {df.points.values[i]} \"\n",
    "            f\"DISTANCE: {j:.2f}\"))"
   ]
  },
  {
   "cell_type": "code",
   "execution_count": 4,
   "metadata": {},
   "outputs": [
    {
     "name": "stdout",
     "output_type": "stream",
     "text": [
      "SEARCHED 100261 reviews of 99388 wines from 14975 wineries in 11.18ms\n",
      "\n",
      "NAME: D'Arenberg D'Arenberg 2011 Tyche's Mustard Single Vineyard Shiraz (McLaren Vale) (Australia)\n",
      "REVIEW: Despite some plum fruit, this single-vineyard Shiraz tracks more to the savory side, blending notes of espresso, earth, roasted meat and black olive. It's full bodied and slightly creamy and dusty in texture, with a long finish.\n",
      "RANK: 90 DISTANCE: 0.27\n",
      "NAME: Suhru Suhru 2013 Shiraz (North Fork of Long Island) (US)\n",
      "REVIEW: Fleshy black plums and berries burst from nose to palate of this juicy lip-smacking Long Island Shiraz. It's approachably plush and round with a pleasantly clingy mouthfeel. A backdrop of sweet spice and fine, feather-tipped tannins extend the finish.\n",
      "RANK: 88 DISTANCE: 0.30\n",
      "NAME: West Cape Howe West Cape Howe 2009 Two Steps Shiraz (Western Australia) (Australia)\n",
      "REVIEW: Sourced from Mount Barker, this is a full-bodied, supple example of WA Shiraz. Concentrated plummy fruit is marked by hints of menthol and peppery spice, then ends in a soft wash of dusty tannins and mouthwatering acids. Drink now–2020+.\n",
      "RANK: 91 DISTANCE: 0.31\n",
      "NAME: De Bortoli De Bortoli 2006 Deen de Bortoli Vat 8 Shiraz (South Eastern Australia) (Australia)\n",
      "REVIEW: This easy-drinking Shiraz features some plummy—almost pruny—fruit aromas, facile plum and berry flavors, little tannin and bright acids on the finish.\n",
      "RANK: 84 DISTANCE: 0.32\n",
      "NAME: Kilikanoon Kilikanoon 2006 The Lackey Shiraz (South Australia) (Australia)\n",
      "REVIEW: This is a fresh and elegant take, a good choice for those who find some Shiraz to be heavy-handed. Spice and cedar scents lead to a medium-bodied palate with raspberry and plum fruit couched in velvety tannins. The medium finish is shot through with plum notes. Drink up or keep for a year.\n",
      "RANK: 86 DISTANCE: 0.32\n",
      "NAME: Robertson Winery Robertson Winery 2006 Wolfkloof Limited Release Shiraz (Robertson) (South Africa)\n",
      "REVIEW: The nose on this red is soft and full of rounded spice and red berry fruit. Rich, balanced flavors of plum, black fruit and pepper are poised and backed by a good acidity. A classy Shiraz that will pair well with meat dishes and aged cheeses.\n",
      "RANK: 90 DISTANCE: 0.32\n",
      "NAME: Water Wheel Water Wheel 2005 Shiraz (Bendigo) (Australia)\n",
      "REVIEW: Water Wheel's 2005 Shiraz is a full-bodied, creamy-textured effort filled with the scents and flavors of dark plums, vanilla and coffee. It's delicious now, but should evolve through 2020, thanks to its concentrated fruit and ample tannins.\n",
      "RANK: 90 DISTANCE: 0.32\n",
      "NAME: John Duval Wines John Duval Wines 2014 Entity Shiraz (Barossa Valley) (Australia)\n",
      "REVIEW: Dark berry and plum fruit dominates, but hints of mint, vanilla and cedar add interest. Somewhere between silky and velvety, this full-bodied, richly textured Shiraz finishes long and appears to have the tannic structure to age well, though it's delicious now.\n",
      "RANK: 93 DISTANCE: 0.33\n",
      "NAME: Rocland Estate Rocland Estate 2008 Lot 147 Single Vineyard Shiraz (Barossa Valley) (Australia)\n",
      "REVIEW: This full-bodied Shiraz starts off plummy, with oak-derived accents of smoke and vanilla. Those elements also show up on the palate, picking up additional notes of blackberry, cedar and baking spice. The texture is velvety, and the finish is long and surprisingly elegant. Drink now–2025.\n",
      "RANK: 92 DISTANCE: 0.33\n",
      "NAME: Pauletts Pauletts 2004 Andreas Polish Hill River Syrah (Clare Valley) (Australia)\n",
      "REVIEW: A tart, hard-edged rendition of Clare Valley Shiraz, from the cool subsection known as Polish Hill better known for its Rieslings. Tart plum and berry flavors are touched with spice, vanilla and traces of hickory smoke and bacon fat. The appealing aromatics are the wine's best facet. Try aging it through 2015 and see if it improves.\n",
      "RANK: 85 DISTANCE: 0.33\n",
      "NAME: Hartenberg Hartenberg 2005 Shiraz (Stellenbosch) (South Africa)\n",
      "REVIEW: Milk chocolate, blue berries, caramel sauce and sweet wood aromas create the impression of a somewhat reduced and confected Shiraz. But the palate comes forward with more vibrant and fresh fruit flavors of raspberry, plum and cherry to keep the sweetness from going overboard and overwhelming the wine. Overall, it's balanced and approachable with a solid, clean finish.\n",
      "RANK: 88 DISTANCE: 0.33\n",
      "NAME: Tar & Roses Tar & Roses 2007 Shiraz (Heathcote) (Australia)\n",
      "REVIEW: Dark berries or plums, cedar and spice notes sum up the aromas and flavors you can expect from this Heathcote Shiraz. It's medium to full in body, and while it's not overly lush, neither is it overly lean—making it a balanced drink with moderate complexity. The firm finish suggests cellaring another year or two, or pairing it with grilled or roasted meats.\n",
      "RANK: 88 DISTANCE: 0.33\n",
      "NAME: Recanati Recanati 2010 Shiraz (Galilee) (Israel)\n",
      "REVIEW: Scents of licorice root, bramble and a soft menthol note grace this balanced Shiraz's black cherry, raspberry and boysenberry fruit. This is medium weight, with moderate tannins and an approachable structure. A note of roasted espresso bean and a hint of chicory carry through the long finish. Mevushal.\n",
      "RANK: 90 DISTANCE: 0.33\n",
      "NAME: Henschke Henschke 2006 Mount Edelstone Vineyard Shiraz (Eden Valley) (Australia)\n",
      "REVIEW: This is one tightly wound Shiraz. There's cedar and spice on the nose, but the plum fruit is balled up inside, needing time to emerge. Still, the spice notes are impressive, ranging from sage to peppercorn, and the structure is impeccable. Probably worth trying again in 2016.\n",
      "RANK: 91 DISTANCE: 0.34\n",
      "NAME: Helderberg Wijnmakerij Helderberg Wijnmakerij 2009 Shiraz (Stellenbosch) (South Africa)\n",
      "REVIEW: There's a touch of heat to the nose of this Shiraz that slightly overwhelms the black plum and berry aromas. In the mouth, initial licorice and mulled boysenberry flavors transition nicely into the short but peppery close.\n",
      "RANK: 85 DISTANCE: 0.34\n",
      "NAME: Caliterra Caliterra 2009 Bio-Sur Shiraz (Colchagua Valley) (Chile)\n",
      "REVIEW: Dark, muscular and concentrated, with char, rubber and blackberry aromas. Thick but not soupy, with big tannins and firm acids. Flavors of blackberry, cassis and dark plum are drawn, leaving an oaky, minty finish. A good but arguably overextracted organic Shiraz.\n",
      "RANK: 85 DISTANCE: 0.34\n",
      "NAME: Longwood Longwood 2005 Reserve Shiraz (McLaren Vale) (Australia)\n",
      "REVIEW: This is a full-bodied, firmly structured Shiraz with plummy, intense aromas tinged with licorice and framboise. Bits of chocolate, mint and spice accent the plum and raspberry flavors, and the wine finishes crisp, dry and deeply textured. It should drink well from now through 2015.\n",
      "RANK: 91 DISTANCE: 0.34\n",
      "NAME: Hartenberg Hartenberg 2008 The Stork Shiraz (Stellenbosch) (South Africa)\n",
      "REVIEW: A big and bold Shiraz, dark fruit aromas and flavors of fig, black cherry and plum abound. Glimmers of sweet spice and smoke unfold softly, showing the promise of additional complexities and nuance that should continue to develop with time. Firmly structured tannins help to frame the lush, ripe palate, and prodive a gripping texture to the long close. Try after 2015 and beyond.\n",
      "RANK: 91 DISTANCE: 0.35\n",
      "NAME: Two Hands Two Hands 2007 Angels Share Shiraz (McLaren Vale) (Australia)\n",
      "REVIEW: Plums, vanilla, toasty oak and a bit of chocolate fudge. The 2007 Angels Share features all of those flavors in a full-bodied, chewy Shiraz. The long, richly textured finish suggests pairing with grilled steak or lamb chops.\n",
      "RANK: 90 DISTANCE: 0.35\n",
      "NAME: Taltarni Taltarni 2005 Shiraz (Heathcote) (Australia)\n",
      "REVIEW: Well done Shiraz, carefully made and judiciously oaked, with vanilla and cedar accenting blackberry, plum and black olive flavors. It's moderately tannic on the finish, where it adds some coffee-like nuances as well. Drink 2010–2018.\n",
      "RANK: 90 DISTANCE: 0.35\n"
     ]
    }
   ],
   "source": [
    "search(df, \"shiraz fruity plum\")"
   ]
  }
 ],
 "metadata": {
  "interpreter": {
   "hash": "d4d1e4263499bec80672ea0156c357c1ee493ec2b1c70f0acce89fc37c4a6abe"
  },
  "kernelspec": {
   "display_name": "Python 3.8.10 64-bit ('base': conda)",
   "name": "python3"
  },
  "language_info": {
   "codemirror_mode": {
    "name": "ipython",
    "version": 3
   },
   "file_extension": ".py",
   "mimetype": "text/x-python",
   "name": "python",
   "nbconvert_exporter": "python",
   "pygments_lexer": "ipython3",
   "version": "3.8.10"
  },
  "orig_nbformat": 4
 },
 "nbformat": 4,
 "nbformat_minor": 2
}
