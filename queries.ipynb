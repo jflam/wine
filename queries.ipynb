{
 "cells": [
  {
   "cell_type": "markdown",
   "metadata": {},
   "source": [
    "# Wine Reviews Search Engine\n",
    "\n",
    "Enter some sample queries to see how well this performs!\n",
    "\n",
    "- lots of tannins leading to a harsh, puckery feel in the mouth\n",
    "- shiraz fruity plum\n",
    "- fruity chardonnay with cherry flavors\n",
    "- sweet citrus chardonnay\n",
    "- dessert wine"
   ]
  },
  {
   "cell_type": "code",
   "execution_count": 1,
   "metadata": {},
   "outputs": [
    {
     "name": "stderr",
     "output_type": "stream",
     "text": [
      "Your CPU supports instructions that this binary was not compiled to use: SSE3 SSE4.1 SSE4.2 AVX AVX2\n",
      "For maximum performance, you can install NMSLIB from sources \n",
      "pip install --no-binary :all: nmslib\n"
     ]
    },
    {
     "name": "stdout",
     "output_type": "stream",
     "text": [
      "LOADING NMS index from ./data/index.bin...\n",
      "LOADING sentence transformer msmarco-distilbert-base-v4...\n",
      "LOADING dataset from ./data/wine.db sqlite file...\n",
      "INIT completed in 2.77 seconds\n"
     ]
    }
   ],
   "source": [
    "# Setup search engine\n",
    "\n",
    "import build.constants as C\n",
    "import nmslib\n",
    "import pandas as pd\n",
    "import sqlite3 as sql\n",
    "import time\n",
    "\n",
    "from sentence_transformers import SentenceTransformer\n",
    "\n",
    "start = time.process_time()\n",
    "print(f\"LOADING NMS index from {C.NMS_INDEX1}...\")\n",
    "index = nmslib.init(method=\"hnsw\", space=\"cosinesimil\")\n",
    "index.loadIndex(C.NMS_INDEX1)\n",
    "\n",
    "print(f\"LOADING sentence transformer {C.SENTENCE_TRANSFORMER_MODEL_NAME}...\")\n",
    "model = SentenceTransformer(C.SENTENCE_TRANSFORMER_MODEL_NAME)\n",
    "\n",
    "print(f\"LOADING dataset from {C.SQLITE_DATASET} sqlite file...\")\n",
    "with sql.connect(C.SQLITE_DATASET) as c:\n",
    "    df = pd.read_sql(\"select * from wine\", c)\n",
    "end = time.process_time()\n",
    "print(f\"INIT completed in {end-start:.2f} seconds\")\n",
    "\n",
    "def search(df, query: str) -> None:\n",
    "    start = time.process_time()\n",
    "    query_embeddings = model.encode(query, convert_to_tensor=True).cpu()\n",
    "    ids, distances = index.knnQuery(query_embeddings, k=20)\n",
    "    end = time.process_time()\n",
    "    print(f\"SEARCHED {df.shape[0]} reviews of {df.title.nunique()} wines \"\n",
    "          f\"from {df.winery.nunique()} wineries in {(end-start)*1000:.2f}ms\\n\")\n",
    "\n",
    "    # TODO: better Jupyter output\n",
    "    matches = []\n",
    "    for i, j in zip(ids, distances):\n",
    "        print((f\"NAME: {df.winery.values[i]} {df.title.values[i]} \"\n",
    "            f\"({df.country.values[i]})\\n\"\n",
    "            f\"REVIEW: {df.description.values[i]}\\n\"\n",
    "            f\"RANK: {df.points.values[i]} \"\n",
    "            f\"DISTANCE: {j:.2f}\"))"
   ]
  },
  {
   "cell_type": "code",
   "execution_count": 3,
   "metadata": {},
   "outputs": [
    {
     "name": "stdout",
     "output_type": "stream",
     "text": [
      "SEARCHED 100261 reviews of 99388 wines from 14975 wineries in 11.60ms\n",
      "\n",
      "NAME: Clos La Chance Clos La Chance 2010 Estate Zinfandel (Central Coast) (US)\n",
      "REVIEW: Harsh in the mouth, with sharp acidity and uneven tannins, this has a candied-berry flavor.\n",
      "RANK: 82 DISTANCE: 0.41\n",
      "NAME: San Simeon San Simeon 2009 Syrah (Paso Robles) (US)\n",
      "REVIEW: Feels harsh and bitter in the mouth, with simple, sweet flavors of raisins, white sugar and alcohol.\n",
      "RANK: 80 DISTANCE: 0.45\n",
      "NAME: Michael Pozzan Michael Pozzan 2011 Pinot Noir (Russian River Valley) (US)\n",
      "REVIEW: Feels harsh in the mouth, mostly because the fruit is too thin to balance out the acids and tannins. It has watery, dry flavors of cola and pomegranates.\n",
      "RANK: 82 DISTANCE: 0.45\n",
      "NAME: Casa Tiene Vista Casa Tiene Vista 2010 Blackbird Merlot (California) (US)\n",
      "REVIEW: Feels harsh and angular in the mouth, with overripe raisin flavors. Not going anywhere.\n",
      "RANK: 81 DISTANCE: 0.48\n",
      "NAME: Riboli Riboli 2005 Cabernet Sauvignon (Rutherford) (US)\n",
      "REVIEW: With its black pepper aromas and dry, hard tannins that make the mouth pucker, this is an atypical Rutherford Cabernet. But it's a very good, even a noble one. As tough as it is, it possesses a rich core of black currant that lasts through a long finish. Unusual and distinctive, it should hold its own for a decade.\n",
      "RANK: 91 DISTANCE: 0.48\n",
      "NAME: Hanging Vine Hanging Vine 2007 Parcel 9 Merlot (California) (US)\n",
      "REVIEW: Harsh, with rough tannins and sweet and sour cherry flavors.\n",
      "RANK: 82 DISTANCE: 0.48\n",
      "NAME: Tessa Marie Tessa Marie 2007 Sangiovese (Santa Barbara County) (US)\n",
      "REVIEW: Harsh and hot in the mouth, with high alcohol and tough tannins. There's lots of rich cherry, berry and tobacco flavor, but the wine is too unbalanced to earn a higher score.\n",
      "RANK: 85 DISTANCE: 0.49\n",
      "NAME: Chime Chime 2011 Cabernet Sauvignon (California) (US)\n",
      "REVIEW: Harsh in the mouth, with tart acids giving a bite to thin raspberry and tea flavors.\n",
      "RANK: 82 DISTANCE: 0.49\n",
      "NAME: Wolf Family Wolf Family 2004 Cabernet Sauvignon (Napa Valley) (US)\n",
      "REVIEW: A bit inert, with muted aromas and a heavy, tannic mouthfeel. Feels hot and peppery in the mouth. The flavors of black currants give way to a sweet vanilla, tannic finish.\n",
      "RANK: 84 DISTANCE: 0.49\n",
      "NAME: Vivo Vino Vivo Vino 2009 Cabernet Sauvignon (California) (US)\n",
      "REVIEW: Dry, tannic and rough in the mouth, this offers pleasant blackberry, red currant, spice and cedar flavors.\n",
      "RANK: 83 DISTANCE: 0.50\n",
      "NAME: Wild Coyote Wild Coyote 2009 Prankster Merlot (Paso Robles) (US)\n",
      "REVIEW: Feels harsh and sharp in the mouth, with cherry-berry flavors. Pretty rustic drinking, with a bitter finish.\n",
      "RANK: 82 DISTANCE: 0.50\n",
      "NAME: Cordella Cordella 2008  Brunello di Montalcino (Italy)\n",
      "REVIEW: This estate delivered a fine Rosso di Montalcino in 2008 and less certain results with its Brunello the same year. The issue is the sharp acidity that really makes your mouth pucker. Thankfully, the intense crispness is balanced by softer spice, black fruit and tobacco aromas.\n",
      "RANK: 87 DISTANCE: 0.50\n",
      "NAME: Le Vigne di Domenico Le Vigne di Domenico 2007 Merlot (Paso Robles) (US)\n",
      "REVIEW: Shows good blackberry and currant flavors, but there's something off in the mouthfeel. It's a sharpness, a rugged, tart green chlorophyll feeling that suggests unripe tannins.\n",
      "RANK: 84 DISTANCE: 0.50\n",
      "NAME: Cambridge & Sunset Cambridge & Sunset 2012 Cabernet Sauvignon (California) (US)\n",
      "REVIEW: Feels pinched and harsh in the mouth, with simple, sweet blackberry Pop-Tart flavors.\n",
      "RANK: 81 DISTANCE: 0.50\n",
      "NAME: Conde de Velázquez Conde de Velázquez 2006 El Conde Gran Reserva Syrah (Aconcagua Valley) (Chile)\n",
      "REVIEW: Harsh and gaseous on the nose, with rustic aromas and no sense of polish. Tastes like burnt sugar and melted candy, with a soupy finish.\n",
      "RANK: 80 DISTANCE: 0.50\n",
      "NAME: Alta Alella Alta Alella 2010 Mirgin Sparkling (Cava) (Spain)\n",
      "REVIEW: This mature brut nature is smoky and stalky/bitter on the nose. In the mouth, it's lean and acidic, with little body in support of citrus and gritty apple flavors. Bitterness and white-pepper notes rise up on the finish. For razor-sharp Cava, this fits the bill.\n",
      "RANK: 88 DISTANCE: 0.50\n",
      "NAME: Bodega Cuarto Dominio Bodega Cuarto Dominio 2013 Chento Malbec (Mendoza) (Argentina)\n",
      "REVIEW: Damp and furry on the nose, this is all tannins and scratch. High acidity only contributes to the grating mouthfeel, hence it's a bumpy ride where standard berry flavors are a sideshow. Chento 2012 is a better bet if it's still on the shelf.\n",
      "RANK: 83 DISTANCE: 0.51\n",
      "NAME: Venteux Venteux 2007 Grenache (Paso Robles) (US)\n",
      "REVIEW: Soft, sweet and Porty, with sugared flavors of red cherry jam and red currants. Feels hot and prickly in the mouth.\n",
      "RANK: 82 DISTANCE: 0.51\n",
      "NAME: Rezonja Rezonja 2005 Merlot (Alexander Valley) (US)\n",
      "REVIEW: Feels almost Porty, with a hot, harsh mouthfeel and flavors of dessicated grapes and grapeskin tannins dominating the blackberries and currants. Could age out, if you're a gambler.\n",
      "RANK: 83 DISTANCE: 0.51\n",
      "NAME: Oak Knoll Oak Knoll 2013 Sheppard Vineyard Pinot Gris (Willamette Valley) (US)\n",
      "REVIEW: This starts to fall flat even as it hits the mouth. It's got some puckery citrus and apple fruit, then rolls into a thin finish. The aftertaste shows some slightly bitter skin flavors.\n",
      "RANK: 85 DISTANCE: 0.51\n"
     ]
    }
   ],
   "source": [
    "search(df, \"lots of tannins leading to a harsh, puckery feel in the mouth\")"
   ]
  }
 ],
 "metadata": {
  "interpreter": {
   "hash": "d4d1e4263499bec80672ea0156c357c1ee493ec2b1c70f0acce89fc37c4a6abe"
  },
  "kernelspec": {
   "display_name": "Python 3.8.10 64-bit ('base': conda)",
   "name": "python3"
  },
  "language_info": {
   "codemirror_mode": {
    "name": "ipython",
    "version": 3
   },
   "file_extension": ".py",
   "mimetype": "text/x-python",
   "name": "python",
   "nbconvert_exporter": "python",
   "pygments_lexer": "ipython3",
   "version": "3.8.10"
  },
  "orig_nbformat": 4
 },
 "nbformat": 4,
 "nbformat_minor": 2
}
